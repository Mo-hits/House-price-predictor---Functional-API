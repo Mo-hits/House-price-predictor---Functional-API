{
  "nbformat": 4,
  "nbformat_minor": 0,
  "metadata": {
    "colab": {
      "name": "Untitled10.ipynb",
      "provenance": [],
      "collapsed_sections": []
    },
    "kernelspec": {
      "name": "python3",
      "display_name": "Python 3"
    },
    "language_info": {
      "name": "python"
    }
  },
  "cells": [
    {
      "cell_type": "markdown",
      "metadata": {
        "id": "vPM-Oez1ujUC"
      },
      "source": [
        "# House Price Predictor using Functional API - ANN "
      ]
    },
    {
      "cell_type": "code",
      "metadata": {
        "id": "SbGDrpEPehEO"
      },
      "source": [
        "#importing all modules \n",
        "import numpy as np\n",
        "import pandas as pd\n",
        "%matplotlib inline\n",
        "import matplotlib as mpl\n",
        "import matplotlib.pyplot as plt"
      ],
      "execution_count": 1,
      "outputs": []
    },
    {
      "cell_type": "code",
      "metadata": {
        "id": "SGdDt1LKemp4"
      },
      "source": [
        "#importing tensorflow and keras\n",
        "import tensorflow as tf\n",
        "from tensorflow import keras"
      ],
      "execution_count": 2,
      "outputs": []
    },
    {
      "cell_type": "code",
      "metadata": {
        "colab": {
          "base_uri": "https://localhost:8080/"
        },
        "id": "gh5J3G0QeoVd",
        "outputId": "fc3d18b7-6b3b-4df7-e422-481244fa080c"
      },
      "source": [
        "#importing housing california dataset \n",
        "from sklearn.datasets import fetch_california_housing\n",
        "#creating object for dataset\n",
        "housing = fetch_california_housing() "
      ],
      "execution_count": 3,
      "outputs": [
        {
          "output_type": "stream",
          "text": [
            "Downloading Cal. housing from https://ndownloader.figshare.com/files/5976036 to /root/scikit_learn_data\n"
          ],
          "name": "stderr"
        }
      ]
    },
    {
      "cell_type": "code",
      "metadata": {
        "id": "vFAjCjFyetKT"
      },
      "source": [
        "# the data set has MedInc - median income in block, HouseAge - median house age in block, AvgRoom - average number of rooms, \n",
        "#AvgBedroom - average number of bedroom, Population - block population, AvgOccup - average house occupancy\n",
        "#Lattitute - house lattitude , Longitude - House longitude\n",
        "#the target variable is median house value in unit of 100,000 for california district"
      ],
      "execution_count": 4,
      "outputs": []
    },
    {
      "cell_type": "code",
      "metadata": {
        "colab": {
          "base_uri": "https://localhost:8080/"
        },
        "id": "dRGdt4rYeyQc",
        "outputId": "922b46b6-1c38-4732-8425-7771689c1613"
      },
      "source": [
        "#data set is in the form of dictionary\n",
        "#checking key for value in data set\n",
        "print(housing.feature_names)"
      ],
      "execution_count": 5,
      "outputs": [
        {
          "output_type": "stream",
          "text": [
            "['MedInc', 'HouseAge', 'AveRooms', 'AveBedrms', 'Population', 'AveOccup', 'Latitude', 'Longitude']\n"
          ],
          "name": "stdout"
        }
      ]
    },
    {
      "cell_type": "code",
      "metadata": {
        "id": "5ohC_1tJey3M"
      },
      "source": [
        "from sklearn.model_selection import train_test_split\n",
        "#spliiting the data set in test and train data set\n",
        "#by default it will split in 75 : 25 ratio\n",
        "X_train_full , X_test, y_train_full, y_test = train_test_split(housing.data, housing.target, random_state = 42)\n",
        "#splitting train data set into train and validation data set\n",
        "X_train, X_valid, y_train, y_valid = train_test_split(X_train_full, y_train_full, random_state = 42)"
      ],
      "execution_count": 6,
      "outputs": []
    },
    {
      "cell_type": "code",
      "metadata": {
        "id": "VJlB1OOJe9-c"
      },
      "source": [
        "#data pre processing\n",
        "#standardizing our data \n",
        "from sklearn.preprocessing import StandardScaler\n",
        "#creating object of standard scalar\n",
        "scaler = StandardScaler()\n",
        "#training scaler object with training data\n",
        "X_train = scaler.fit_transform(X_train)\n",
        "X_valid = scaler.fit_transform(X_valid)\n",
        "X_test = scaler.fit_transform(X_test)"
      ],
      "execution_count": 7,
      "outputs": []
    },
    {
      "cell_type": "code",
      "metadata": {
        "id": "2b_gkx6NfAdl"
      },
      "source": [
        "np.random.seed(42)\n",
        "tf.random.set_seed(42)"
      ],
      "execution_count": 8,
      "outputs": []
    },
    {
      "cell_type": "code",
      "metadata": {
        "colab": {
          "base_uri": "https://localhost:8080/"
        },
        "id": "wIgKLmuZfC0b",
        "outputId": "998bb36e-1c2f-49cf-f5ed-807b5e6d0753"
      },
      "source": [
        "#checking our training data\n",
        "X_train.shape"
      ],
      "execution_count": 9,
      "outputs": [
        {
          "output_type": "execute_result",
          "data": {
            "text/plain": [
              "(11610, 8)"
            ]
          },
          "metadata": {
            "tags": []
          },
          "execution_count": 9
        }
      ]
    },
    {
      "cell_type": "markdown",
      "metadata": {
        "id": "Lt5aQGmbiSpL"
      },
      "source": [
        "Creating Model using Functional API"
      ]
    },
    {
      "cell_type": "code",
      "metadata": {
        "id": "qZ-aC6BRfFXE"
      },
      "source": [
        "input_ = keras.layers.Input(shape = X_train.shape[1:])\n",
        "#giving input as function\n",
        "hidden1 = keras.layers.Dense(30, activation=\"relu\") (input_)\n",
        "hidden2 = keras.layers.Dense(30, activation=\"relu\") (hidden1)\n",
        "concat = keras.layers.concatenate([input_ , hidden2])\n",
        "output = keras.layers.Dense(1)(concat)\n",
        "model = keras.models.Model(inputs =[input_], outputs = [output])"
      ],
      "execution_count": 14,
      "outputs": []
    },
    {
      "cell_type": "code",
      "metadata": {
        "colab": {
          "base_uri": "https://localhost:8080/"
        },
        "id": "TMqpG7RyhdwE",
        "outputId": "2b79863a-6359-4eaa-e0c1-4b4f9b2f1558"
      },
      "source": [
        "#checking model Summary\n",
        "model.summary()"
      ],
      "execution_count": 15,
      "outputs": [
        {
          "output_type": "stream",
          "text": [
            "Model: \"model_1\"\n",
            "__________________________________________________________________________________________________\n",
            "Layer (type)                    Output Shape         Param #     Connected to                     \n",
            "==================================================================================================\n",
            "input_4 (InputLayer)            [(None, 8)]          0                                            \n",
            "__________________________________________________________________________________________________\n",
            "dense_9 (Dense)                 (None, 30)           270         input_4[0][0]                    \n",
            "__________________________________________________________________________________________________\n",
            "dense_10 (Dense)                (None, 30)           930         dense_9[0][0]                    \n",
            "__________________________________________________________________________________________________\n",
            "concatenate_3 (Concatenate)     (None, 38)           0           input_4[0][0]                    \n",
            "                                                                 dense_10[0][0]                   \n",
            "__________________________________________________________________________________________________\n",
            "dense_11 (Dense)                (None, 1)            39          concatenate_3[0][0]              \n",
            "==================================================================================================\n",
            "Total params: 1,239\n",
            "Trainable params: 1,239\n",
            "Non-trainable params: 0\n",
            "__________________________________________________________________________________________________\n"
          ],
          "name": "stdout"
        }
      ]
    },
    {
      "cell_type": "code",
      "metadata": {
        "id": "NF95L1jpijMC"
      },
      "source": [
        "#compiling our model\n",
        "model.compile(loss = \"mean_squared_error\",\n",
        "              optimizer = keras.optimizers.SGD(learning_rate=1e-3),\n",
        "              metrics = [\"mae\"])"
      ],
      "execution_count": 16,
      "outputs": []
    },
    {
      "cell_type": "code",
      "metadata": {
        "colab": {
          "base_uri": "https://localhost:8080/"
        },
        "id": "7nL0VGMsjc5y",
        "outputId": "a4e4c364-e71b-4c65-ccac-380d85e7ea50"
      },
      "source": [
        "#training our model\n",
        "model_history = model.fit(X_train, y_train, epochs= 40, validation_data=(X_valid, y_valid))"
      ],
      "execution_count": 21,
      "outputs": [
        {
          "output_type": "stream",
          "text": [
            "Epoch 1/40\n",
            "363/363 [==============================] - 1s 1ms/step - loss: 0.3765 - mae: 0.4404 - val_loss: 0.4289 - val_mae: 0.4736\n",
            "Epoch 2/40\n",
            "363/363 [==============================] - 1s 1ms/step - loss: 0.3748 - mae: 0.4396 - val_loss: 0.4332 - val_mae: 0.4813\n",
            "Epoch 3/40\n",
            "363/363 [==============================] - 1s 2ms/step - loss: 0.3746 - mae: 0.4395 - val_loss: 0.4281 - val_mae: 0.4730\n",
            "Epoch 4/40\n",
            "363/363 [==============================] - 1s 2ms/step - loss: 0.3726 - mae: 0.4379 - val_loss: 0.4275 - val_mae: 0.4762\n",
            "Epoch 5/40\n",
            "363/363 [==============================] - 1s 1ms/step - loss: 0.3717 - mae: 0.4375 - val_loss: 0.4266 - val_mae: 0.4727\n",
            "Epoch 6/40\n",
            "363/363 [==============================] - 1s 1ms/step - loss: 0.3701 - mae: 0.4368 - val_loss: 0.4265 - val_mae: 0.4709\n",
            "Epoch 7/40\n",
            "363/363 [==============================] - 1s 1ms/step - loss: 0.3696 - mae: 0.4356 - val_loss: 0.4259 - val_mae: 0.4727\n",
            "Epoch 8/40\n",
            "363/363 [==============================] - 1s 2ms/step - loss: 0.3683 - mae: 0.4352 - val_loss: 0.4245 - val_mae: 0.4690\n",
            "Epoch 9/40\n",
            "363/363 [==============================] - 1s 2ms/step - loss: 0.3671 - mae: 0.4346 - val_loss: 0.4243 - val_mae: 0.4667\n",
            "Epoch 10/40\n",
            "363/363 [==============================] - 1s 2ms/step - loss: 0.3666 - mae: 0.4337 - val_loss: 0.4236 - val_mae: 0.4669\n",
            "Epoch 11/40\n",
            "363/363 [==============================] - 1s 2ms/step - loss: 0.3659 - mae: 0.4329 - val_loss: 0.4208 - val_mae: 0.4628\n",
            "Epoch 12/40\n",
            "363/363 [==============================] - 1s 1ms/step - loss: 0.3649 - mae: 0.4330 - val_loss: 0.4263 - val_mae: 0.4672\n",
            "Epoch 13/40\n",
            "363/363 [==============================] - 1s 2ms/step - loss: 0.3672 - mae: 0.4320 - val_loss: 0.4212 - val_mae: 0.4699\n",
            "Epoch 14/40\n",
            "363/363 [==============================] - 1s 2ms/step - loss: 0.3630 - mae: 0.4314 - val_loss: 0.4225 - val_mae: 0.4702\n",
            "Epoch 15/40\n",
            "363/363 [==============================] - 1s 1ms/step - loss: 0.3619 - mae: 0.4308 - val_loss: 0.4209 - val_mae: 0.4671\n",
            "Epoch 16/40\n",
            "363/363 [==============================] - 1s 2ms/step - loss: 0.3617 - mae: 0.4302 - val_loss: 0.4192 - val_mae: 0.4667\n",
            "Epoch 17/40\n",
            "363/363 [==============================] - 1s 2ms/step - loss: 0.3608 - mae: 0.4305 - val_loss: 0.4220 - val_mae: 0.4664\n",
            "Epoch 18/40\n",
            "363/363 [==============================] - 1s 1ms/step - loss: 0.3609 - mae: 0.4287 - val_loss: 0.4190 - val_mae: 0.4630\n",
            "Epoch 19/40\n",
            "363/363 [==============================] - 1s 1ms/step - loss: 0.3585 - mae: 0.4283 - val_loss: 0.4200 - val_mae: 0.4638\n",
            "Epoch 20/40\n",
            "363/363 [==============================] - 1s 2ms/step - loss: 0.3578 - mae: 0.4276 - val_loss: 0.4191 - val_mae: 0.4647\n",
            "Epoch 21/40\n",
            "363/363 [==============================] - 1s 2ms/step - loss: 0.3579 - mae: 0.4271 - val_loss: 0.4192 - val_mae: 0.4683\n",
            "Epoch 22/40\n",
            "363/363 [==============================] - 1s 2ms/step - loss: 0.3561 - mae: 0.4271 - val_loss: 0.4225 - val_mae: 0.4693\n",
            "Epoch 23/40\n",
            "363/363 [==============================] - 1s 2ms/step - loss: 0.3567 - mae: 0.4267 - val_loss: 0.4269 - val_mae: 0.4533\n",
            "Epoch 24/40\n",
            "363/363 [==============================] - 1s 2ms/step - loss: 0.3563 - mae: 0.4261 - val_loss: 0.4245 - val_mae: 0.4658\n",
            "Epoch 25/40\n",
            "363/363 [==============================] - 1s 1ms/step - loss: 0.3569 - mae: 0.4253 - val_loss: 0.4162 - val_mae: 0.4619\n",
            "Epoch 26/40\n",
            "363/363 [==============================] - 1s 1ms/step - loss: 0.3534 - mae: 0.4252 - val_loss: 0.4198 - val_mae: 0.4626\n",
            "Epoch 27/40\n",
            "363/363 [==============================] - 1s 2ms/step - loss: 0.3546 - mae: 0.4246 - val_loss: 0.4226 - val_mae: 0.4529\n",
            "Epoch 28/40\n",
            "363/363 [==============================] - 1s 2ms/step - loss: 0.3545 - mae: 0.4251 - val_loss: 0.4210 - val_mae: 0.4650\n",
            "Epoch 29/40\n",
            "363/363 [==============================] - 1s 1ms/step - loss: 0.3547 - mae: 0.4236 - val_loss: 0.4145 - val_mae: 0.4617\n",
            "Epoch 30/40\n",
            "363/363 [==============================] - 1s 2ms/step - loss: 0.3523 - mae: 0.4242 - val_loss: 0.4212 - val_mae: 0.4623\n",
            "Epoch 31/40\n",
            "363/363 [==============================] - 1s 1ms/step - loss: 0.3560 - mae: 0.4233 - val_loss: 0.4165 - val_mae: 0.4605\n",
            "Epoch 32/40\n",
            "363/363 [==============================] - 1s 2ms/step - loss: 0.3518 - mae: 0.4237 - val_loss: 0.4227 - val_mae: 0.4667\n",
            "Epoch 33/40\n",
            "363/363 [==============================] - 1s 2ms/step - loss: 0.3528 - mae: 0.4220 - val_loss: 0.4144 - val_mae: 0.4607\n",
            "Epoch 34/40\n",
            "363/363 [==============================] - 1s 1ms/step - loss: 0.3496 - mae: 0.4223 - val_loss: 0.4177 - val_mae: 0.4627\n",
            "Epoch 35/40\n",
            "363/363 [==============================] - 1s 1ms/step - loss: 0.3490 - mae: 0.4210 - val_loss: 0.4158 - val_mae: 0.4651\n",
            "Epoch 36/40\n",
            "363/363 [==============================] - 1s 2ms/step - loss: 0.3478 - mae: 0.4209 - val_loss: 0.4145 - val_mae: 0.4578\n",
            "Epoch 37/40\n",
            "363/363 [==============================] - 1s 2ms/step - loss: 0.3474 - mae: 0.4200 - val_loss: 0.4150 - val_mae: 0.4622\n",
            "Epoch 38/40\n",
            "363/363 [==============================] - 1s 1ms/step - loss: 0.3467 - mae: 0.4197 - val_loss: 0.4138 - val_mae: 0.4602\n",
            "Epoch 39/40\n",
            "363/363 [==============================] - 1s 2ms/step - loss: 0.3460 - mae: 0.4196 - val_loss: 0.4139 - val_mae: 0.4589\n",
            "Epoch 40/40\n",
            "363/363 [==============================] - 1s 1ms/step - loss: 0.3456 - mae: 0.4191 - val_loss: 0.4129 - val_mae: 0.4556\n"
          ],
          "name": "stdout"
        }
      ]
    },
    {
      "cell_type": "code",
      "metadata": {
        "colab": {
          "base_uri": "https://localhost:8080/"
        },
        "id": "gyzElVx1jzb8",
        "outputId": "9d86bf28-4ed9-4467-891e-97c7b54ab0d7"
      },
      "source": [
        "#checking performance of our model on test data\n",
        "mae_test = model.evaluate(X_test, y_test)"
      ],
      "execution_count": 22,
      "outputs": [
        {
          "output_type": "stream",
          "text": [
            "162/162 [==============================] - 0s 1ms/step - loss: 0.3758 - mae: 0.4433\n"
          ],
          "name": "stdout"
        }
      ]
    },
    {
      "cell_type": "code",
      "metadata": {
        "colab": {
          "base_uri": "https://localhost:8080/",
          "height": 324
        },
        "id": "N1iMbiIPkLr6",
        "outputId": "196c2aad-6681-4c72-8126-38c994a031ee"
      },
      "source": [
        "#visualizing performance by plotting graph\n",
        "pd.DataFrame(model_history.history).plot(figsize =(8,5))\n",
        "plt.grid(True)\n",
        "plt.gca().set_ylim(0, 1)\n",
        "plt.show()"
      ],
      "execution_count": 23,
      "outputs": [
        {
          "output_type": "display_data",
          "data": {
            "image/png": "[encoded data removed]",
            "text/plain": [
              "<Figure size 576x360 with 1 Axes>"
            ]
          },
          "metadata": {
            "tags": [],
            "needs_background": "light"
          }
        }
      ]
    },
    {
      "cell_type": "code",
      "metadata": {
        "id": "A44t-GkXkwdR"
      },
      "source": [
        " #creating new test data\n",
        " X_new = X_test[:3]"
      ],
      "execution_count": 24,
      "outputs": []
    },
    {
      "cell_type": "code",
      "metadata": {
        "colab": {
          "base_uri": "https://localhost:8080/"
        },
        "id": "1qDKwRRLljOD",
        "outputId": "b468052e-ec4c-4319-84e2-0e76e2a29907"
      },
      "source": [
        "print(model.predict(X_new)) #printiung predicted value\n",
        "print(y_test[:3]) #printing original value"
      ],
      "execution_count": 27,
      "outputs": [
        {
          "output_type": "stream",
          "text": [
            "[[0.7570546]\n",
            " [1.6610036]\n",
            " [4.7113967]]\n",
            "[0.477   0.458   5.00001]\n"
          ],
          "name": "stdout"
        }
      ]
    },
    {
      "cell_type": "code",
      "metadata": {
        "id": "pITMn-9xm2TZ"
      },
      "source": [
        "#saving my model\n",
        "model.save(\"FunctionalAPI .h5\")"
      ],
      "execution_count": 28,
      "outputs": []
    },
    {
      "cell_type": "markdown",
      "metadata": {
        "id": "niplx2upmMFT"
      },
      "source": [
        "# END"
      ]
    }
  ]
}